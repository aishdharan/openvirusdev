{
 "cells": [
  {
   "cell_type": "code",
   "execution_count": 96,
   "metadata": {},
   "outputs": [],
   "source": [
    "import pandas as pd\n",
    "import numpy as np\n",
    "import nltk\n",
    "import os\n",
    "import nltk.corpus\n",
    "import glob\n"
   ]
  },
  {
   "cell_type": "code",
   "execution_count": 97,
   "metadata": {},
   "outputs": [],
   "source": [
    "from pathlib import Path\n",
    "# change these to the directory where you cloned openvirusdev\n",
    "HOME = str(Path.home())\n",
    "OPENVIRUSDEV = HOME + \"/\" + \"workspace/openvirusdev\"\n",
    "PROJECTS = HOME + \"/\" + \"projects\"\n"
   ]
  },
  {
   "cell_type": "code",
   "execution_count": 98,
   "metadata": {},
   "outputs": [],
   "source": [
    "# PMR's projects. \n",
    "IPYNB = OPENVIRUSDEV + \"/\" + \"ipynb\"\n",
    "VIRUS2019 = OPENVIRUSDEV + \"/\" + \"viral2019\"\n",
    "\n",
    "OPENBATTERY = PROJECTS + \"/\" + \"open-battery\"\n",
    "LIION = OPENBATTERY + \"/\" + \"liion\"\n",
    "\n"
   ]
  },
  {
   "cell_type": "code",
   "execution_count": 99,
   "metadata": {},
   "outputs": [],
   "source": [
    "project = VIRUS2019\n",
    "project = LIION\n",
    "os.chdir(project)"
   ]
  },
  {
   "cell_type": "code",
   "execution_count": 100,
   "metadata": {},
   "outputs": [],
   "source": [
    "def get_globbed_files(directory, file_glob, recurse=True):\n",
    "    \"\"\"\n",
    "    returns a list of files satisfying the file_glob expression\n",
    "    in the context of dir\n",
    "    temporarily changes directory and then resets to current dir\n",
    "    recurses through the directory if recursive = True (default)    \n",
    "    \"\"\"\n",
    "    current_dir = os.getcwd()\n",
    "    os.chdir(directory)\n",
    "    files = glob.glob(file_glob, recursive=recurse)\n",
    "    print(\"number of \" + file_glob + \" files in \" + directory + \": \" + str(len(files)))\n",
    "    os.chdir(current_dir)\n",
    "    return files"
   ]
  },
  {
   "cell_type": "code",
   "execution_count": 101,
   "metadata": {},
   "outputs": [
    {
     "name": "stdout",
     "output_type": "stream",
     "text": [
      "number of PMC*/sections files in /Users/pm286/projects/open-battery/liion: 199\n"
     ]
    }
   ],
   "source": [
    "section_dirs = get_globbed_files(project, 'PMC*/sections')\n",
    "if (len(section_dirs) == 0):\n",
    "    cmd = \"ami -v -p \" + project + \" section\"\n",
    "    print(\"running: \"+cmd)\n",
    "    ! $cmd\n",
    "    print(\"finished section\")\n",
    "    "
   ]
  },
  {
   "cell_type": "code",
   "execution_count": 102,
   "metadata": {},
   "outputs": [
    {
     "name": "stdout",
     "output_type": "stream",
     "text": [
      "number of PMC* files in /Users/pm286/projects/open-battery/liion: 200\n",
      "number of PMC* files: 200\n",
      "number of PMC*/sections/**/*abstract*.xml files in /Users/pm286/projects/open-battery/liion: 238\n",
      "number of PMC*/sections/**/*.xml files in /Users/pm286/projects/open-battery/liion: 2490\n",
      "number of PMC*/sections/**/*figure*.xml files in /Users/pm286/projects/open-battery/liion: 1286\n"
     ]
    }
   ],
   "source": [
    "# os.chdir(project)\n",
    "file_glob = 'PMC*'\n",
    "files = get_globbed_files(project, file_glob)\n",
    "print(\"number of \" + file_glob + \" files: \" + str(len(files))\\\n",
    "#      + \"\\n \" + str(files)\\\n",
    "     )\n",
    "\n",
    "abstract_files = get_globbed_files(project, 'PMC*/sections/**/*abstract*.xml')\n",
    "# print(\"abstracts \" + str(abstract_files))    \n",
    "\n",
    "text_files = get_globbed_files(project, 'PMC*/sections/**/*.xml', recurse=False)\n",
    "# print(\"number of xml text files: \" + str(len(text_files)) +\"\\n\" + str(text_files))\n",
    "\n",
    "figure_files = get_globbed_files(project, 'PMC*/sections/**/*figure*.xml', recurse=False)\n",
    "# print(\"number of figure files: \" + str(len(figure_files)) +\"\\n\" + str(figure_files))"
   ]
  },
  {
   "cell_type": "code",
   "execution_count": 103,
   "metadata": {
    "scrolled": true
   },
   "outputs": [],
   "source": [
    "def read_text_contents(text_files):\n",
    "    os.chdir(project)\n",
    "\n",
    "    text_contents = []\n",
    "    for text_file in text_files:\n",
    "        text_filex = open(text_file,mode='r')\n",
    "        text = text_filex.read()\n",
    "        text_filex.close()\n",
    "        text_contents.append(text)\n",
    "\n",
    "    return text_contents\n"
   ]
  },
  {
   "cell_type": "code",
   "execution_count": 104,
   "metadata": {},
   "outputs": [
    {
     "name": "stderr",
     "output_type": "stream",
     "text": [
      "[nltk_data] Downloading package punkt to /Users/pm286/nltk_data...\n",
      "[nltk_data]   Package punkt is already up-to-date!\n"
     ]
    }
   ],
   "source": [
    "from nltk.tokenize import word_tokenize\n",
    "nltk.download('punkt')\n",
    "from nltk import word_tokenize\n",
    "from nltk.corpus import stopwords\n",
    "import string\n",
    "import re\n",
    "\n",
    "def remove_xml_punkt_tokenize_stopwords(text_contents, minlen=2, lang='english'):\n",
    "    nltk.download('stopwords')\n",
    "\n",
    "    stop_en = set(stopwords.words(lang))\n",
    "\n",
    "    # filter words\n",
    "    content_words_list = []\n",
    "    for text_content in text_contents:\n",
    "        # remove (most) XML markup\n",
    "        text_content1 = re.sub('</?[^>]*>', '', text_content)\n",
    "        words = word_tokenize(text_content1)\n",
    "        # remove stopwords, punctuation, and short words\n",
    "        words = [w for w in words if w.lower() not in stop_en \\\n",
    "                  and w not in string.punctuation\\\n",
    "                  and len(w) >= minlen\n",
    "                 ]\n",
    "\n",
    "        content_words_list.append(words)\n",
    "\n",
    "    content_words = [word for lizt in content_words_list for word in lizt]\n",
    "    return content_words\n"
   ]
  },
  {
   "cell_type": "code",
   "execution_count": 105,
   "metadata": {
    "scrolled": true
   },
   "outputs": [
    {
     "name": "stderr",
     "output_type": "stream",
     "text": [
      "[nltk_data] Downloading package stopwords to /Users/pm286/nltk_data...\n",
      "[nltk_data]   Package stopwords is already up-to-date!\n"
     ]
    },
    {
     "name": "stdout",
     "output_type": "stream",
     "text": [
      "[('Figure', 1126), ('Li', 313), ('images', 288), ('electrode', 258), ('different', 242), ('cycles', 236), ('current', 229), ('SEM', 223), ('curves', 215), ('−1', 214), ('image', 207), ('Fig', 202), ('composite', 201), ('electrolyte', 199), ('battery', 197), ('rate', 195), ('cell', 183), ('performance', 177), ('separator', 170), ('2O', 169), ('spectra', 168), ('Si', 157), ('TEM', 154), ('Schematic', 150), ('cells', 137), ('profiles', 136), ('capacity', 133), ('electrodes', 133), ('voltage', 131), ('cycling', 127)]\n"
     ]
    },
    {
     "data": {
      "image/png": "[encoded data removed]",
      "text/plain": [
       "<Figure size 432x288 with 1 Axes>"
      ]
     },
     "metadata": {
      "needs_background": "light"
     },
     "output_type": "display_data"
    },
    {
     "name": "stderr",
     "output_type": "stream",
     "text": [
      "[nltk_data] Downloading package stopwords to /Users/pm286/nltk_data...\n",
      "[nltk_data]   Package stopwords is already up-to-date!\n"
     ]
    },
    {
     "name": "stdout",
     "output_type": "stream",
     "text": [
      "[('battery', 254), ('capacity', 229), ('batteries', 220), ('high', 211), ('lithium', 195), ('performance', 167), ('−1', 160), ('lithium-ion', 140), ('electrode', 138), ('electrochemical', 137), ('materials', 126), ('anode', 124), ('electrolyte', 122), ('ion', 114), ('energy', 108), ('material', 104), ('composite', 101), ('cycles', 101), ('Li', 99), ('cycling', 93), ('separator', 92), ('rate', 85), ('stability', 85), ('cathode', 84), ('structure', 82), ('surface', 81), ('carbon', 77), ('current', 76), ('discharge', 76), ('density', 75)]\n"
     ]
    },
    {
     "data": {
      "image/png": "[encoded data removed]",
      "text/plain": [
       "<Figure size 432x288 with 1 Axes>"
      ]
     },
     "metadata": {
      "needs_background": "light"
     },
     "output_type": "display_data"
    },
    {
     "name": "stderr",
     "output_type": "stream",
     "text": [
      "[nltk_data] Downloading package stopwords to /Users/pm286/nltk_data...\n",
      "[nltk_data]   Package stopwords is already up-to-date!\n"
     ]
    },
    {
     "name": "stdout",
     "output_type": "stream",
     "text": [
      "[('Figure', 1126), ('Li', 313), ('images', 288), ('electrode', 258), ('different', 242), ('cycles', 236), ('current', 229), ('SEM', 223), ('curves', 215), ('−1', 214), ('image', 207), ('Fig', 202), ('composite', 201), ('electrolyte', 199), ('battery', 197), ('rate', 195), ('cell', 183), ('performance', 177), ('separator', 170), ('2O', 169), ('spectra', 168), ('Si', 157), ('TEM', 154), ('Schematic', 150), ('cells', 137), ('profiles', 136), ('capacity', 133), ('electrodes', 133), ('voltage', 131), ('cycling', 127)]\n"
     ]
    },
    {
     "data": {
      "image/png": "[encoded data removed]",
      "text/plain": [
       "<Figure size 432x288 with 1 Axes>"
      ]
     },
     "metadata": {
      "needs_background": "light"
     },
     "output_type": "display_data"
    }
   ],
   "source": [
    "for files in [figure_files, abstract_files, figure_files]:\n",
    "    text_contents = read_text_contents(files)\n",
    "    words = remove_xml_punkt_tokenize_stopwords(text_contents)\n",
    "#    print(\"========================\\nplotting: \" + files)\n",
    "    plot_frequency(words)"
   ]
  },
  {
   "cell_type": "code",
   "execution_count": 106,
   "metadata": {
    "scrolled": false
   },
   "outputs": [],
   "source": [
    "from nltk.probability import FreqDist\n",
    "import matplotlib.pyplot as plt\n",
    "\n",
    "def plot_frequency(words):\n",
    "    fdist = FreqDist(words)\n",
    "    # To find the frequency of top 10 words\n",
    "    print(fdist.most_common(30))\n",
    "\n",
    "    # fdist.plot(30,cumulative=True)\n",
    "    fdist.plot(30)\n",
    "    plt.show()\n"
   ]
  },
  {
   "cell_type": "code",
   "execution_count": 107,
   "metadata": {},
   "outputs": [],
   "source": [
    "from nltk.stem import PorterStemmer\n",
    "from nltk.stem import LancasterStemmer\n",
    "from nltk.stem import WordNetLemmatizer \n",
    "\n",
    "def stem_lemmatize(words, stemmer=PorterStemmer(), lemmatizer=WordNetLemmatizer()):\n",
    "\n",
    "    stemmed = []\n",
    "    for word in words :\n",
    "        if (stemmer != None):\n",
    "            word1 = stemmer.stem(word)\n",
    "        elif (lemmatizer != None):\n",
    "            word1 = lemmatizer.lemmatize(word)\n",
    "        stemmed.append(word1)\n",
    "    return stemmed\n",
    "    \n"
   ]
  },
  {
   "cell_type": "code",
   "execution_count": 108,
   "metadata": {},
   "outputs": [
    {
     "ename": "SyntaxError",
     "evalue": "invalid syntax (<ipython-input-108-b42e1e6de120>, line 2)",
     "output_type": "error",
     "traceback": [
      "\u001b[0;36m  File \u001b[0;32m\"<ipython-input-108-b42e1e6de120>\"\u001b[0;36m, line \u001b[0;32m2\u001b[0m\n\u001b[0;31m    def chunk(text)\u001b[0m\n\u001b[0m                       ^\u001b[0m\n\u001b[0;31mSyntaxError\u001b[0m\u001b[0;31m:\u001b[0m invalid syntax\n"
     ]
    }
   ],
   "source": [
    "from nltk import ne_chunk\n",
    "\n",
    "def chunk(text):    \n",
    "    nltk.download('maxent_ne_chunker')\n",
    "    nltk.download('words')\n",
    "    # tokenize and POS Tagging before doing chunk\n",
    "    tokens = word_tokenize(text)\n",
    "    tags = nltk.pos_tag(tokens)\n",
    "    chunk = ne_chunk(tags)\n",
    "    return chunk\n"
   ]
  },
  {
   "cell_type": "code",
   "execution_count": null,
   "metadata": {
    "scrolled": true
   },
   "outputs": [],
   "source": [
    "def noun_phrase(text):\n",
    "    tokens = word_tokenize(text)\n",
    "    tags = nltk.pos_tag(tokens)\n",
    "    reg = \"NP: {<DT>?<JJ>*<NN>}\" \n",
    "    parser = nltk.RegexpParser(reg)\n",
    "    np_tree = parser.parse(tags)\n",
    "    return np_tree"
   ]
  },
  {
   "cell_type": "code",
   "execution_count": null,
   "metadata": {},
   "outputs": [],
   "source": [
    "def count_vectorize():\n",
    "    \"\"\"\n",
    "    not tested\n",
    "    \"\"\"\n",
    "    from sklearn.feature_extraction.text import CountVectorizer\n",
    "    from nltk.tokenize import RegexpTokenizer\n",
    "    #tokenizer to remove unwanted elements from out data like symbols and numbers\n",
    "    token = RegexpTokenizer(r'[a-zA-Z0-9]+')\n",
    "    cv = CountVectorizer(lowercase=True,stop_words='english',ngram_range = (1,1),tokenizer = token.tokenize)\n"
   ]
  },
  {
   "cell_type": "code",
   "execution_count": null,
   "metadata": {
    "scrolled": true
   },
   "outputs": [],
   "source": [
    "def sentence_tokenizer(text):\n",
    "    from nltk.tokenize import sent_tokenize\n",
    "    sentences=sent_tokenize(text)\n",
    "    print(\"sentences: \"+str(len(sentences)))\n",
    "    for sentence in sentences:\n",
    "        print(\">> \"+sentence+\"\\n..\")\n",
    "        phrases = sentence.split(\"\\n\")\n",
    "        print(\"??\"+str(len(phrases)))\n"
   ]
  },
  {
   "cell_type": "code",
   "execution_count": null,
   "metadata": {},
   "outputs": [],
   "source": [
    "def tfidfVector():\n",
    "    \"\"\"\n",
    "    not tested\n",
    "    \"\"\"\n",
    "    from sklearn.feature_extraction.text import TfidfVectorizer\n",
    "    tf=TfidfVectorizer()\n",
    "    # text_tf= tf.fit_transform(data['Phrase'])\n",
    "    text_tf= tf.fit_transform(phrases)"
   ]
  },
  {
   "cell_type": "code",
   "execution_count": null,
   "metadata": {
    "scrolled": true
   },
   "outputs": [],
   "source": [
    "def tfidf():\n",
    "    \"\"\"\n",
    "    not tested\n",
    "    \"\"\"\n",
    "    import pandas as pd \n",
    "    from sklearn.feature_extraction.text import TfidfTransformer\n",
    "    from sklearn.feature_extraction.text import CountVectorizer\n",
    "    cv=CountVectorizer() \n",
    "    word_count_vector=cv.fit_transform(sentences)\n",
    "    tfidf_transformer=TfidfTransformer(smooth_idf=True,use_idf=True) \n",
    "    tfidf_transformer.fit(word_count_vector)\n",
    "    # print idf values \n",
    "    df_idf = pd.DataFrame(tfidf_transformer.idf_, index=cv.get_feature_names(),columns=[\"idf_weights\"]) \n",
    "\n",
    "    # sort ascending \n",
    "    df_idf.sort_values(by=['idf_weights'])"
   ]
  },
  {
   "cell_type": "code",
   "execution_count": null,
   "metadata": {},
   "outputs": [],
   "source": [
    "# ==================\n",
    "# from scikit-learn\n",
    "# https://scikit-learn.org/stable/auto_examples/bicluster/plot_bicluster_newsgroups.html#sphx-glr-auto-examples-bicluster-plot-bicluster-newsgroups-py\n",
    "# =================="
   ]
  }
 ],
 "metadata": {
  "kernelspec": {
   "display_name": "Python 3",
   "language": "python",
   "name": "python3"
  },
  "language_info": {
   "codemirror_mode": {
    "name": "ipython",
    "version": 3
   },
   "file_extension": ".py",
   "mimetype": "text/x-python",
   "name": "python",
   "nbconvert_exporter": "python",
   "pygments_lexer": "ipython3",
   "version": "3.8.3"
  }
 },
 "nbformat": 4,
 "nbformat_minor": 4
}
