{
  "nbformat": 4,
  "nbformat_minor": 0,
  "metadata": {
    "colab": {
      "name": "europepmc.ipynb",
      "provenance": [],
      "collapsed_sections": []
    },
    "kernelspec": {
      "name": "python3",
      "display_name": "Python 3"
    }
  },
  "cells": [
    {
      "cell_type": "code",
      "metadata": {
        "id": "HRzABMo7NW-X"
      },
      "source": [
        "import requests\n",
        "import lxml\n",
        "import os"
      ],
      "execution_count": 56,
      "outputs": []
    },
    {
      "cell_type": "code",
      "metadata": {
        "id": "PvWnb_YaNzOO"
      },
      "source": [
        "def search(query,size,synonym='YES'):\n",
        "  #change synonym to no otherwise yes is the default\n",
        "  if size<=1000:\n",
        "    headers = {'Content-type': 'application/x-www-form-urlencoded'}\n",
        "    payload = {'query': query,'resultType':'core','pageSize':1000,'synonym':synonym}\n",
        "    r = requests.post('https://www.ebi.ac.uk/europepmc/webservices/rest/searchPOST', data=payload,headers=headers)\n",
        "    return r.content\n",
        "  if size>1000:\n",
        "    headers = {'Content-type': 'application/x-www-form-urlencoded'}\n",
        "    payload = {'query': query,'format':format,'resultType':'core','pageSize':1000}\n",
        "    r = requests.post('https://www.ebi.ac.uk/europepmc/webservices/rest/searchPOST', data=payload,headers=headers)\n",
        "    xmlschema_doc = lxml.etree.XML(r.content)\n",
        "    cursor=xmlschema_doc.xpath('//nextCursorMark')\n",
        "    nextCursorMark=cursor[0].text\n",
        "    headers = {'Content-type': 'application/x-www-form-urlencoded'}\n",
        "    payload = {'query': query,'format':format,'resultType':'core','cursorMark':nextCursorMark,'pageSize':1000}\n",
        "    r2 = requests.post('https://www.ebi.ac.uk/europepmc/webservices/rest/searchPOST', data=payload,headers=headers)\n",
        "    return r.content+r2.content\n",
        "\n",
        "def makefiles(searchvariable,size):\n",
        "  xmlschema_doc = lxml.etree.XML(searchvariable)\n",
        "  PMC=[]\n",
        "  for a in xmlschema_doc.xpath('//fullTextId'):\n",
        "    PMC.append(a.text)\n",
        "\n",
        "  for i in PMC[0:size]:\n",
        "    r = requests.get(f\"https://www.ebi.ac.uk/europepmc/webservices/rest/{i}/fullTextXML\")\n",
        "    root = lxml.etree.fromstring(r.text)\n",
        "    tree = lxml.etree.ElementTree(root)\n",
        "    if not os.path.isdir(os.path.join(str(os.getcwd()),'papers')):\n",
        "      os.makedirs(os.path.join(str(os.getcwd()),'papers'))\n",
        "    tree.write(os.path.join(str(os.getcwd()),'papers',f\"{i}.xml\"))"
      ],
      "execution_count": 84,
      "outputs": []
    },
    {
      "cell_type": "code",
      "metadata": {
        "id": "4O1OLd3Xa-w1"
      },
      "source": [
        "#type search query in this form\n",
        "a=search('covid',50)\n",
        "\n",
        "#pass in this query to makefiles along with the number of files you want to save\n",
        "makefiles(a,50)"
      ],
      "execution_count": 80,
      "outputs": []
    }
  ]
}
